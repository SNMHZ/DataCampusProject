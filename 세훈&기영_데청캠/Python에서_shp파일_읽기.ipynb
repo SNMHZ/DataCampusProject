{
  "nbformat": 4,
  "nbformat_minor": 0,
  "metadata": {
    "kernelspec": {
      "display_name": "geo_jupyter",
      "language": "python",
      "name": "geo"
    },
    "language_info": {
      "codemirror_mode": {
        "name": "ipython",
        "version": 3
      },
      "file_extension": ".py",
      "mimetype": "text/x-python",
      "name": "python",
      "nbconvert_exporter": "python",
      "pygments_lexer": "ipython3",
      "version": "3.6.7"
    },
    "colab": {
      "name": "Python에서 shp파일 읽기.ipynb",
      "provenance": []
    }
  },
  "cells": [
    {
      "cell_type": "code",
      "metadata": {
        "colab": {
          "base_uri": "https://localhost:8080/"
        },
        "id": "aSsDq3LaIuqC",
        "outputId": "f1328ff1-2510-4f2e-976e-d61e69e3f8ae"
      },
      "source": [
        "!pip install geopandas"
      ],
      "execution_count": 1,
      "outputs": [
        {
          "output_type": "stream",
          "text": [
            "Collecting geopandas\n",
            "  Downloading geopandas-0.9.0-py2.py3-none-any.whl (994 kB)\n",
            "\u001b[?25l\r\u001b[K     |▎                               | 10 kB 23.2 MB/s eta 0:00:01\r\u001b[K     |▋                               | 20 kB 25.2 MB/s eta 0:00:01\r\u001b[K     |█                               | 30 kB 13.3 MB/s eta 0:00:01\r\u001b[K     |█▎                              | 40 kB 9.7 MB/s eta 0:00:01\r\u001b[K     |█▋                              | 51 kB 4.3 MB/s eta 0:00:01\r\u001b[K     |██                              | 61 kB 4.6 MB/s eta 0:00:01\r\u001b[K     |██▎                             | 71 kB 3.9 MB/s eta 0:00:01\r\u001b[K     |██▋                             | 81 kB 4.3 MB/s eta 0:00:01\r\u001b[K     |███                             | 92 kB 4.4 MB/s eta 0:00:01\r\u001b[K     |███▎                            | 102 kB 4.1 MB/s eta 0:00:01\r\u001b[K     |███▋                            | 112 kB 4.1 MB/s eta 0:00:01\r\u001b[K     |████                            | 122 kB 4.1 MB/s eta 0:00:01\r\u001b[K     |████▎                           | 133 kB 4.1 MB/s eta 0:00:01\r\u001b[K     |████▋                           | 143 kB 4.1 MB/s eta 0:00:01\r\u001b[K     |█████                           | 153 kB 4.1 MB/s eta 0:00:01\r\u001b[K     |█████▎                          | 163 kB 4.1 MB/s eta 0:00:01\r\u001b[K     |█████▋                          | 174 kB 4.1 MB/s eta 0:00:01\r\u001b[K     |██████                          | 184 kB 4.1 MB/s eta 0:00:01\r\u001b[K     |██████▎                         | 194 kB 4.1 MB/s eta 0:00:01\r\u001b[K     |██████▋                         | 204 kB 4.1 MB/s eta 0:00:01\r\u001b[K     |███████                         | 215 kB 4.1 MB/s eta 0:00:01\r\u001b[K     |███████▎                        | 225 kB 4.1 MB/s eta 0:00:01\r\u001b[K     |███████▋                        | 235 kB 4.1 MB/s eta 0:00:01\r\u001b[K     |████████                        | 245 kB 4.1 MB/s eta 0:00:01\r\u001b[K     |████████▎                       | 256 kB 4.1 MB/s eta 0:00:01\r\u001b[K     |████████▋                       | 266 kB 4.1 MB/s eta 0:00:01\r\u001b[K     |█████████                       | 276 kB 4.1 MB/s eta 0:00:01\r\u001b[K     |█████████▎                      | 286 kB 4.1 MB/s eta 0:00:01\r\u001b[K     |█████████▌                      | 296 kB 4.1 MB/s eta 0:00:01\r\u001b[K     |█████████▉                      | 307 kB 4.1 MB/s eta 0:00:01\r\u001b[K     |██████████▏                     | 317 kB 4.1 MB/s eta 0:00:01\r\u001b[K     |██████████▌                     | 327 kB 4.1 MB/s eta 0:00:01\r\u001b[K     |██████████▉                     | 337 kB 4.1 MB/s eta 0:00:01\r\u001b[K     |███████████▏                    | 348 kB 4.1 MB/s eta 0:00:01\r\u001b[K     |███████████▌                    | 358 kB 4.1 MB/s eta 0:00:01\r\u001b[K     |███████████▉                    | 368 kB 4.1 MB/s eta 0:00:01\r\u001b[K     |████████████▏                   | 378 kB 4.1 MB/s eta 0:00:01\r\u001b[K     |████████████▌                   | 389 kB 4.1 MB/s eta 0:00:01\r\u001b[K     |████████████▉                   | 399 kB 4.1 MB/s eta 0:00:01\r\u001b[K     |█████████████▏                  | 409 kB 4.1 MB/s eta 0:00:01\r\u001b[K     |█████████████▌                  | 419 kB 4.1 MB/s eta 0:00:01\r\u001b[K     |█████████████▉                  | 430 kB 4.1 MB/s eta 0:00:01\r\u001b[K     |██████████████▏                 | 440 kB 4.1 MB/s eta 0:00:01\r\u001b[K     |██████████████▌                 | 450 kB 4.1 MB/s eta 0:00:01\r\u001b[K     |██████████████▉                 | 460 kB 4.1 MB/s eta 0:00:01\r\u001b[K     |███████████████▏                | 471 kB 4.1 MB/s eta 0:00:01\r\u001b[K     |███████████████▌                | 481 kB 4.1 MB/s eta 0:00:01\r\u001b[K     |███████████████▉                | 491 kB 4.1 MB/s eta 0:00:01\r\u001b[K     |████████████████▏               | 501 kB 4.1 MB/s eta 0:00:01\r\u001b[K     |████████████████▌               | 512 kB 4.1 MB/s eta 0:00:01\r\u001b[K     |████████████████▉               | 522 kB 4.1 MB/s eta 0:00:01\r\u001b[K     |█████████████████▏              | 532 kB 4.1 MB/s eta 0:00:01\r\u001b[K     |█████████████████▌              | 542 kB 4.1 MB/s eta 0:00:01\r\u001b[K     |█████████████████▉              | 552 kB 4.1 MB/s eta 0:00:01\r\u001b[K     |██████████████████▏             | 563 kB 4.1 MB/s eta 0:00:01\r\u001b[K     |██████████████████▌             | 573 kB 4.1 MB/s eta 0:00:01\r\u001b[K     |██████████████████▊             | 583 kB 4.1 MB/s eta 0:00:01\r\u001b[K     |███████████████████             | 593 kB 4.1 MB/s eta 0:00:01\r\u001b[K     |███████████████████▍            | 604 kB 4.1 MB/s eta 0:00:01\r\u001b[K     |███████████████████▊            | 614 kB 4.1 MB/s eta 0:00:01\r\u001b[K     |████████████████████            | 624 kB 4.1 MB/s eta 0:00:01\r\u001b[K     |████████████████████▍           | 634 kB 4.1 MB/s eta 0:00:01\r\u001b[K     |████████████████████▊           | 645 kB 4.1 MB/s eta 0:00:01\r\u001b[K     |█████████████████████           | 655 kB 4.1 MB/s eta 0:00:01\r\u001b[K     |█████████████████████▍          | 665 kB 4.1 MB/s eta 0:00:01\r\u001b[K     |█████████████████████▊          | 675 kB 4.1 MB/s eta 0:00:01\r\u001b[K     |██████████████████████          | 686 kB 4.1 MB/s eta 0:00:01\r\u001b[K     |██████████████████████▍         | 696 kB 4.1 MB/s eta 0:00:01\r\u001b[K     |██████████████████████▊         | 706 kB 4.1 MB/s eta 0:00:01\r\u001b[K     |███████████████████████         | 716 kB 4.1 MB/s eta 0:00:01\r\u001b[K     |███████████████████████▍        | 727 kB 4.1 MB/s eta 0:00:01\r\u001b[K     |███████████████████████▊        | 737 kB 4.1 MB/s eta 0:00:01\r\u001b[K     |████████████████████████        | 747 kB 4.1 MB/s eta 0:00:01\r\u001b[K     |████████████████████████▍       | 757 kB 4.1 MB/s eta 0:00:01\r\u001b[K     |████████████████████████▊       | 768 kB 4.1 MB/s eta 0:00:01\r\u001b[K     |█████████████████████████       | 778 kB 4.1 MB/s eta 0:00:01\r\u001b[K     |█████████████████████████▍      | 788 kB 4.1 MB/s eta 0:00:01\r\u001b[K     |█████████████████████████▊      | 798 kB 4.1 MB/s eta 0:00:01\r\u001b[K     |██████████████████████████      | 808 kB 4.1 MB/s eta 0:00:01\r\u001b[K     |██████████████████████████▍     | 819 kB 4.1 MB/s eta 0:00:01\r\u001b[K     |██████████████████████████▊     | 829 kB 4.1 MB/s eta 0:00:01\r\u001b[K     |███████████████████████████     | 839 kB 4.1 MB/s eta 0:00:01\r\u001b[K     |███████████████████████████▍    | 849 kB 4.1 MB/s eta 0:00:01\r\u001b[K     |███████████████████████████▊    | 860 kB 4.1 MB/s eta 0:00:01\r\u001b[K     |████████████████████████████    | 870 kB 4.1 MB/s eta 0:00:01\r\u001b[K     |████████████████████████████▎   | 880 kB 4.1 MB/s eta 0:00:01\r\u001b[K     |████████████████████████████▋   | 890 kB 4.1 MB/s eta 0:00:01\r\u001b[K     |█████████████████████████████   | 901 kB 4.1 MB/s eta 0:00:01\r\u001b[K     |█████████████████████████████▎  | 911 kB 4.1 MB/s eta 0:00:01\r\u001b[K     |█████████████████████████████▋  | 921 kB 4.1 MB/s eta 0:00:01\r\u001b[K     |██████████████████████████████  | 931 kB 4.1 MB/s eta 0:00:01\r\u001b[K     |██████████████████████████████▎ | 942 kB 4.1 MB/s eta 0:00:01\r\u001b[K     |██████████████████████████████▋ | 952 kB 4.1 MB/s eta 0:00:01\r\u001b[K     |███████████████████████████████ | 962 kB 4.1 MB/s eta 0:00:01\r\u001b[K     |███████████████████████████████▎| 972 kB 4.1 MB/s eta 0:00:01\r\u001b[K     |███████████████████████████████▋| 983 kB 4.1 MB/s eta 0:00:01\r\u001b[K     |████████████████████████████████| 993 kB 4.1 MB/s eta 0:00:01\r\u001b[K     |████████████████████████████████| 994 kB 4.1 MB/s \n",
            "\u001b[?25hRequirement already satisfied: pandas>=0.24.0 in /usr/local/lib/python3.7/dist-packages (from geopandas) (1.1.5)\n",
            "Collecting pyproj>=2.2.0\n",
            "  Downloading pyproj-3.1.0-cp37-cp37m-manylinux2010_x86_64.whl (6.6 MB)\n",
            "\u001b[K     |████████████████████████████████| 6.6 MB 26.5 MB/s \n",
            "\u001b[?25hRequirement already satisfied: shapely>=1.6 in /usr/local/lib/python3.7/dist-packages (from geopandas) (1.7.1)\n",
            "Collecting fiona>=1.8\n",
            "  Downloading Fiona-1.8.20-cp37-cp37m-manylinux1_x86_64.whl (15.4 MB)\n",
            "\u001b[K     |████████████████████████████████| 15.4 MB 34 kB/s \n",
            "\u001b[?25hRequirement already satisfied: six>=1.7 in /usr/local/lib/python3.7/dist-packages (from fiona>=1.8->geopandas) (1.15.0)\n",
            "Collecting click-plugins>=1.0\n",
            "  Downloading click_plugins-1.1.1-py2.py3-none-any.whl (7.5 kB)\n",
            "Collecting cligj>=0.5\n",
            "  Downloading cligj-0.7.2-py3-none-any.whl (7.1 kB)\n",
            "Requirement already satisfied: attrs>=17 in /usr/local/lib/python3.7/dist-packages (from fiona>=1.8->geopandas) (21.2.0)\n",
            "Requirement already satisfied: certifi in /usr/local/lib/python3.7/dist-packages (from fiona>=1.8->geopandas) (2021.5.30)\n",
            "Requirement already satisfied: setuptools in /usr/local/lib/python3.7/dist-packages (from fiona>=1.8->geopandas) (57.2.0)\n",
            "Requirement already satisfied: click>=4.0 in /usr/local/lib/python3.7/dist-packages (from fiona>=1.8->geopandas) (7.1.2)\n",
            "Collecting munch\n",
            "  Downloading munch-2.5.0-py2.py3-none-any.whl (10 kB)\n",
            "Requirement already satisfied: numpy>=1.15.4 in /usr/local/lib/python3.7/dist-packages (from pandas>=0.24.0->geopandas) (1.19.5)\n",
            "Requirement already satisfied: python-dateutil>=2.7.3 in /usr/local/lib/python3.7/dist-packages (from pandas>=0.24.0->geopandas) (2.8.1)\n",
            "Requirement already satisfied: pytz>=2017.2 in /usr/local/lib/python3.7/dist-packages (from pandas>=0.24.0->geopandas) (2018.9)\n",
            "Installing collected packages: munch, cligj, click-plugins, pyproj, fiona, geopandas\n",
            "Successfully installed click-plugins-1.1.1 cligj-0.7.2 fiona-1.8.20 geopandas-0.9.0 munch-2.5.0 pyproj-3.1.0\n"
          ],
          "name": "stdout"
        }
      ]
    },
    {
      "cell_type": "code",
      "metadata": {
        "id": "6XWmu7GHJHHd",
        "colab": {
          "base_uri": "https://localhost:8080/"
        },
        "outputId": "2635d8a7-78e3-4132-f719-4d46645f70cb"
      },
      "source": [
        "from google.colab import drive\n",
        "\n",
        "drive.mount('/content/gdrive')"
      ],
      "execution_count": 2,
      "outputs": [
        {
          "output_type": "stream",
          "text": [
            "Mounted at /content/gdrive\n"
          ],
          "name": "stdout"
        }
      ]
    },
    {
      "cell_type": "code",
      "metadata": {
        "id": "bFBNUI_PItjE"
      },
      "source": [
        "import geopandas as gpd\n",
        "import matplotlib.pyplot as plt\n",
        "\n",
        "plt.rcParams[\"font.family\"] = 'NanumGothic'\n",
        "plt.rcParams[\"font.size\"] = 13\n",
        "plt.rcParams[\"figure.figsize\"] = (10,10)"
      ],
      "execution_count": 4,
      "outputs": []
    },
    {
      "cell_type": "code",
      "metadata": {
        "colab": {
          "base_uri": "https://localhost:8080/",
          "height": 226
        },
        "id": "QbARWhoPItjI",
        "outputId": "df8bb9a5-6336-42cf-e3a1-68ce4cd491e5"
      },
      "source": [
        "# ArcGIS or GIS에서는 SHP파일만 가져와서 읽지만, python은 .dbf, .shx파일도 함께 있어야힌다. \n",
        "seoul_file = \"/content/gdrive/MyDrive/bnd_oa_11_2020_2020_2Q.shp\"\n",
        "seoul = gpd.read_file(seoul_file)\n",
        "seoul\n"
      ],
      "execution_count": 1,
      "outputs": [
        {
          "output_type": "error",
          "ename": "NameError",
          "evalue": "ignored",
          "traceback": [
            "\u001b[0;31m---------------------------------------------------------------------------\u001b[0m",
            "\u001b[0;31mNameError\u001b[0m                                 Traceback (most recent call last)",
            "\u001b[0;32m<ipython-input-1-388b1f9e7f36>\u001b[0m in \u001b[0;36m<module>\u001b[0;34m()\u001b[0m\n\u001b[1;32m      1\u001b[0m \u001b[0;31m# ArcGIS or GIS에서는 SHP파일만 가져와서 읽지만, python은 .dbf, .shx파일도 함께 있어야힌다.\u001b[0m\u001b[0;34m\u001b[0m\u001b[0;34m\u001b[0m\u001b[0;34m\u001b[0m\u001b[0m\n\u001b[1;32m      2\u001b[0m \u001b[0mseoul_file\u001b[0m \u001b[0;34m=\u001b[0m \u001b[0;34m\"/content/gdrive/MyDrive/bnd_oa_11_2020_2020_2Q.shp\"\u001b[0m\u001b[0;34m\u001b[0m\u001b[0;34m\u001b[0m\u001b[0m\n\u001b[0;32m----> 3\u001b[0;31m \u001b[0mseoul\u001b[0m \u001b[0;34m=\u001b[0m \u001b[0mgpd\u001b[0m\u001b[0;34m.\u001b[0m\u001b[0mread_file\u001b[0m\u001b[0;34m(\u001b[0m\u001b[0mseoul_file\u001b[0m\u001b[0;34m)\u001b[0m\u001b[0;34m\u001b[0m\u001b[0;34m\u001b[0m\u001b[0m\n\u001b[0m\u001b[1;32m      4\u001b[0m \u001b[0mlen\u001b[0m\u001b[0;34m(\u001b[0m\u001b[0mseoul\u001b[0m\u001b[0;34m)\u001b[0m\u001b[0;34m\u001b[0m\u001b[0;34m\u001b[0m\u001b[0m\n",
            "\u001b[0;31mNameError\u001b[0m: name 'gpd' is not defined"
          ]
        }
      ]
    }
  ]
}
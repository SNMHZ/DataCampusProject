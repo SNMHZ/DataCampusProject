{
  "nbformat": 4,
  "nbformat_minor": 0,
  "metadata": {
    "colab": {
      "name": "1인가구_데이터_정제.ipynb",
      "provenance": []
    },
    "kernelspec": {
      "name": "python3",
      "display_name": "Python 3"
    },
    "language_info": {
      "name": "python"
    }
  },
  "cells": [
    {
      "cell_type": "code",
      "metadata": {
        "colab": {
          "base_uri": "https://localhost:8080/"
        },
        "id": "IJQ3njEv0h-J",
        "outputId": "d6547929-13c9-4029-ef2b-165479d1ac49"
      },
      "source": [
        "from google.colab import drive\n",
        "drive.mount('/content/drive')"
      ],
      "execution_count": 1,
      "outputs": [
        {
          "output_type": "stream",
          "text": [
            "Mounted at /content/drive\n"
          ],
          "name": "stdout"
        }
      ]
    },
    {
      "cell_type": "code",
      "metadata": {
        "id": "mNsVXKqt3R-C"
      },
      "source": [
        "col1 = []\n",
        "col2 = []\n",
        "col3 = []\n",
        "col4 = []\n",
        "\n",
        "file = '/content/drive/MyDrive/11_2019년_세대구성별가구.txt'\n",
        "f = open(file, 'r')\n",
        "line = f.readline()\n",
        "\n",
        "while True:\n",
        "\n",
        "    line = f.readline()\n",
        "    if not line: \n",
        "      break\n",
        "\n",
        "    if \"ga_sd_005\" not in line :\n",
        "      continue\n",
        "    l = line.split('^')\n",
        "    col1.append(l[0])\n",
        "    col2.append(l[1])\n",
        "    col3.append(l[2])\n",
        "    col4.append(l[3])\n",
        "\n",
        "f.close()\n",
        "\n"
      ],
      "execution_count": 24,
      "outputs": []
    },
    {
      "cell_type": "code",
      "metadata": {
        "id": "1DPfTc0F3R7a"
      },
      "source": [
        "for i in range(len(col4)) :\n",
        "  if col4[i] == 'N/A\\n' or col4[i] == 'N/A' :\n",
        "      col4[i] = '2.5'\n",
        "  \n",
        "  col4[i] = float(col4[i])"
      ],
      "execution_count": 25,
      "outputs": []
    },
    {
      "cell_type": "code",
      "metadata": {
        "colab": {
          "base_uri": "https://localhost:8080/",
          "height": 420
        },
        "id": "oAgx21Sr3R5G",
        "outputId": "f3b00cdd-634c-4eee-c16b-29ae10c997f4"
      },
      "source": [
        "import pandas as pd\n",
        "\n",
        "df = pd.DataFrame({\n",
        "    \"집계구코드\": col2,\n",
        "    \"1인가구코드\": col3,\n",
        "    \"인원수\": col4,\n",
        "    })\n",
        "mean = round(df['인원수'].mean())\n",
        "df['인원수'].fillna(mean)\n",
        "\n",
        "df"
      ],
      "execution_count": 33,
      "outputs": [
        {
          "output_type": "execute_result",
          "data": {
            "text/html": [
              "<div>\n",
              "<style scoped>\n",
              "    .dataframe tbody tr th:only-of-type {\n",
              "        vertical-align: middle;\n",
              "    }\n",
              "\n",
              "    .dataframe tbody tr th {\n",
              "        vertical-align: top;\n",
              "    }\n",
              "\n",
              "    .dataframe thead th {\n",
              "        text-align: right;\n",
              "    }\n",
              "</style>\n",
              "<table border=\"1\" class=\"dataframe\">\n",
              "  <thead>\n",
              "    <tr style=\"text-align: right;\">\n",
              "      <th></th>\n",
              "      <th>집계구코드</th>\n",
              "      <th>1인가구코드</th>\n",
              "      <th>인원수</th>\n",
              "    </tr>\n",
              "  </thead>\n",
              "  <tbody>\n",
              "    <tr>\n",
              "      <th>0</th>\n",
              "      <td>1101053010001</td>\n",
              "      <td>ga_sd_005</td>\n",
              "      <td>50.0</td>\n",
              "    </tr>\n",
              "    <tr>\n",
              "      <th>1</th>\n",
              "      <td>1101053020001</td>\n",
              "      <td>ga_sd_005</td>\n",
              "      <td>82.0</td>\n",
              "    </tr>\n",
              "    <tr>\n",
              "      <th>2</th>\n",
              "      <td>1101053020002</td>\n",
              "      <td>ga_sd_005</td>\n",
              "      <td>64.0</td>\n",
              "    </tr>\n",
              "    <tr>\n",
              "      <th>3</th>\n",
              "      <td>1101053020003</td>\n",
              "      <td>ga_sd_005</td>\n",
              "      <td>74.0</td>\n",
              "    </tr>\n",
              "    <tr>\n",
              "      <th>4</th>\n",
              "      <td>1101053020004</td>\n",
              "      <td>ga_sd_005</td>\n",
              "      <td>76.0</td>\n",
              "    </tr>\n",
              "    <tr>\n",
              "      <th>...</th>\n",
              "      <td>...</td>\n",
              "      <td>...</td>\n",
              "      <td>...</td>\n",
              "    </tr>\n",
              "    <tr>\n",
              "      <th>18520</th>\n",
              "      <td>1125074022801</td>\n",
              "      <td>ga_sd_005</td>\n",
              "      <td>79.0</td>\n",
              "    </tr>\n",
              "    <tr>\n",
              "      <th>18521</th>\n",
              "      <td>1125074023001</td>\n",
              "      <td>ga_sd_005</td>\n",
              "      <td>13.0</td>\n",
              "    </tr>\n",
              "    <tr>\n",
              "      <th>18522</th>\n",
              "      <td>1125074023002</td>\n",
              "      <td>ga_sd_005</td>\n",
              "      <td>15.0</td>\n",
              "    </tr>\n",
              "    <tr>\n",
              "      <th>18523</th>\n",
              "      <td>1125074023003</td>\n",
              "      <td>ga_sd_005</td>\n",
              "      <td>63.0</td>\n",
              "    </tr>\n",
              "    <tr>\n",
              "      <th>18524</th>\n",
              "      <td>1125074023004</td>\n",
              "      <td>ga_sd_005</td>\n",
              "      <td>34.0</td>\n",
              "    </tr>\n",
              "  </tbody>\n",
              "</table>\n",
              "<p>18525 rows × 3 columns</p>\n",
              "</div>"
            ],
            "text/plain": [
              "               집계구코드     1인가구코드   인원수\n",
              "0      1101053010001  ga_sd_005  50.0\n",
              "1      1101053020001  ga_sd_005  82.0\n",
              "2      1101053020002  ga_sd_005  64.0\n",
              "3      1101053020003  ga_sd_005  74.0\n",
              "4      1101053020004  ga_sd_005  76.0\n",
              "...              ...        ...   ...\n",
              "18520  1125074022801  ga_sd_005  79.0\n",
              "18521  1125074023001  ga_sd_005  13.0\n",
              "18522  1125074023002  ga_sd_005  15.0\n",
              "18523  1125074023003  ga_sd_005  63.0\n",
              "18524  1125074023004  ga_sd_005  34.0\n",
              "\n",
              "[18525 rows x 3 columns]"
            ]
          },
          "metadata": {
            "tags": []
          },
          "execution_count": 33
        }
      ]
    },
    {
      "cell_type": "code",
      "metadata": {
        "id": "QMizElPD3R2c"
      },
      "source": [
        "f = open('/content/drive/MyDrive/2019년_1인가구.txt', 'w')\n",
        "f.write(\"base_year^tot_oa_cd^item^value\\n\")\n",
        "\n",
        "\n",
        "for i in range(len(df)) :\n",
        "  string = '2019' + '^' + str(df.iloc[i,0]) + '^' + '_' +  '^' + str(df.iloc[i,2]) + \"\\n\"\n",
        "  f.write(string)\n",
        "\n",
        "f.close()"
      ],
      "execution_count": 35,
      "outputs": []
    },
    {
      "cell_type": "code",
      "metadata": {
        "id": "xN4yRhu63Rvf"
      },
      "source": [
        ""
      ],
      "execution_count": null,
      "outputs": []
    }
  ]
}
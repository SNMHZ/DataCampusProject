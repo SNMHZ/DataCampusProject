{
  "nbformat": 4,
  "nbformat_minor": 0,
  "metadata": {
    "colab": {
      "name": "주소to위도경도.ipynb",
      "provenance": [],
      "collapsed_sections": []
    },
    "kernelspec": {
      "name": "python3",
      "display_name": "Python 3"
    },
    "language_info": {
      "name": "python"
    }
  },
  "cells": [
    {
      "cell_type": "code",
      "metadata": {
        "id": "P_rwbn49Pf_k"
      },
      "source": [
        "import pandas as pd\n",
        "import numpy as np"
      ],
      "execution_count": null,
      "outputs": []
    },
    {
      "cell_type": "code",
      "metadata": {
        "id": "n0LQOj-VQH7S"
      },
      "source": [
        "import requests"
      ],
      "execution_count": null,
      "outputs": []
    },
    {
      "cell_type": "code",
      "metadata": {
        "id": "XWJR871qQhSc"
      },
      "source": [
        "import json"
      ],
      "execution_count": null,
      "outputs": []
    },
    {
      "cell_type": "code",
      "metadata": {
        "id": "CqH12kl2PsHM"
      },
      "source": [
        "df = pd.read_csv(\"/content/서울시 지하철역 정보 검색 (역명).csv\", encoding=\"CP949\")"
      ],
      "execution_count": null,
      "outputs": []
    },
    {
      "cell_type": "code",
      "metadata": {
        "colab": {
          "base_uri": "https://localhost:8080/",
          "height": 423
        },
        "id": "wvhU6S5aP2_E",
        "outputId": "87c09e95-e80f-4590-d5ac-bbf1182828ed"
      },
      "source": [
        "df"
      ],
      "execution_count": null,
      "outputs": [
        {
          "output_type": "execute_result",
          "data": {
            "text/html": [
              "<div>\n",
              "<style scoped>\n",
              "    .dataframe tbody tr th:only-of-type {\n",
              "        vertical-align: middle;\n",
              "    }\n",
              "\n",
              "    .dataframe tbody tr th {\n",
              "        vertical-align: top;\n",
              "    }\n",
              "\n",
              "    .dataframe thead th {\n",
              "        text-align: right;\n",
              "    }\n",
              "</style>\n",
              "<table border=\"1\" class=\"dataframe\">\n",
              "  <thead>\n",
              "    <tr style=\"text-align: right;\">\n",
              "      <th></th>\n",
              "      <th>전철역코드</th>\n",
              "      <th>전철역명</th>\n",
              "      <th>호선</th>\n",
              "      <th>외부코드</th>\n",
              "    </tr>\n",
              "  </thead>\n",
              "  <tbody>\n",
              "    <tr>\n",
              "      <th>0</th>\n",
              "      <td>0154</td>\n",
              "      <td>종로5가</td>\n",
              "      <td>01호선</td>\n",
              "      <td>129</td>\n",
              "    </tr>\n",
              "    <tr>\n",
              "      <th>1</th>\n",
              "      <td>0155</td>\n",
              "      <td>동대문</td>\n",
              "      <td>01호선</td>\n",
              "      <td>128</td>\n",
              "    </tr>\n",
              "    <tr>\n",
              "      <th>2</th>\n",
              "      <td>0156</td>\n",
              "      <td>신설동</td>\n",
              "      <td>01호선</td>\n",
              "      <td>126</td>\n",
              "    </tr>\n",
              "    <tr>\n",
              "      <th>3</th>\n",
              "      <td>0157</td>\n",
              "      <td>제기동</td>\n",
              "      <td>01호선</td>\n",
              "      <td>125</td>\n",
              "    </tr>\n",
              "    <tr>\n",
              "      <th>4</th>\n",
              "      <td>0158</td>\n",
              "      <td>청량리</td>\n",
              "      <td>01호선</td>\n",
              "      <td>124</td>\n",
              "    </tr>\n",
              "    <tr>\n",
              "      <th>...</th>\n",
              "      <td>...</td>\n",
              "      <td>...</td>\n",
              "      <td>...</td>\n",
              "      <td>...</td>\n",
              "    </tr>\n",
              "    <tr>\n",
              "      <th>743</th>\n",
              "      <td>4512</td>\n",
              "      <td>운동장.송담대</td>\n",
              "      <td>용인경전철</td>\n",
              "      <td>Y120</td>\n",
              "    </tr>\n",
              "    <tr>\n",
              "      <th>744</th>\n",
              "      <td>4513</td>\n",
              "      <td>고진</td>\n",
              "      <td>용인경전철</td>\n",
              "      <td>Y121</td>\n",
              "    </tr>\n",
              "    <tr>\n",
              "      <th>745</th>\n",
              "      <td>4514</td>\n",
              "      <td>보평</td>\n",
              "      <td>용인경전철</td>\n",
              "      <td>Y123</td>\n",
              "    </tr>\n",
              "    <tr>\n",
              "      <th>746</th>\n",
              "      <td>4515</td>\n",
              "      <td>둔전</td>\n",
              "      <td>용인경전철</td>\n",
              "      <td>Y125</td>\n",
              "    </tr>\n",
              "    <tr>\n",
              "      <th>747</th>\n",
              "      <td>4601</td>\n",
              "      <td>발곡</td>\n",
              "      <td>의정부경전철</td>\n",
              "      <td>U110</td>\n",
              "    </tr>\n",
              "  </tbody>\n",
              "</table>\n",
              "<p>748 rows × 4 columns</p>\n",
              "</div>"
            ],
            "text/plain": [
              "    전철역코드     전철역명      호선  외부코드\n",
              "0    0154     종로5가    01호선   129\n",
              "1    0155      동대문    01호선   128\n",
              "2    0156      신설동    01호선   126\n",
              "3    0157      제기동    01호선   125\n",
              "4    0158      청량리    01호선   124\n",
              "..    ...      ...     ...   ...\n",
              "743  4512  운동장.송담대   용인경전철  Y120\n",
              "744  4513       고진   용인경전철  Y121\n",
              "745  4514       보평   용인경전철  Y123\n",
              "746  4515       둔전   용인경전철  Y125\n",
              "747  4601       발곡  의정부경전철  U110\n",
              "\n",
              "[748 rows x 4 columns]"
            ]
          },
          "metadata": {
            "tags": []
          },
          "execution_count": 5
        }
      ]
    },
    {
      "cell_type": "code",
      "metadata": {
        "id": "CyfPUd5pVkJn"
      },
      "source": [
        "apikey = \"\""
      ],
      "execution_count": null,
      "outputs": []
    },
    {
      "cell_type": "code",
      "metadata": {
        "id": "-u6ixcuTVu77"
      },
      "source": [
        "req_url = \"https://maps.googleapis.com/maps/api/geocode/json?sensor=false&language=ko\""
      ],
      "execution_count": null,
      "outputs": []
    },
    {
      "cell_type": "code",
      "metadata": {
        "id": "4NMqYc-LVxnL"
      },
      "source": [
        "req_url+=\"&key=\"+apikey"
      ],
      "execution_count": null,
      "outputs": []
    },
    {
      "cell_type": "code",
      "metadata": {
        "colab": {
          "base_uri": "https://localhost:8080/",
          "height": 36
        },
        "id": "Jamf1SCqQOe9",
        "outputId": "175fb0d8-f9fa-4367-f0d3-542d6ad51922"
      },
      "source": [
        "json.loads(response.text)['results'][0]['formatted_address']"
      ],
      "execution_count": null,
      "outputs": [
        {
          "output_type": "execute_result",
          "data": {
            "application/vnd.google.colaboratory.intrinsic+json": {
              "type": "string"
            },
            "text/plain": [
              "'대한민국 서울특별시 종로구 종로5가 124-8'"
            ]
          },
          "metadata": {
            "tags": []
          },
          "execution_count": 14
        }
      ]
    },
    {
      "cell_type": "code",
      "metadata": {
        "id": "TNFS0QAFQ6wo"
      },
      "source": [
        "raw_response = []\n",
        "for stn_line, stn_name in zip(df['호선'], df['전철역명']):\n",
        "  if stn_line[0]==\"0\":\n",
        "    raw_response.append( requests.get( req_url+\"&address=\"+stn_line[1:]+\"_\"+stn_name ) )\n",
        "  else:\n",
        "    raw_response.append( requests.get( req_url+\"&address=\"+stn_line+\"_\"+stn_name ) )"
      ],
      "execution_count": null,
      "outputs": []
    },
    {
      "cell_type": "code",
      "metadata": {
        "colab": {
          "base_uri": "https://localhost:8080/"
        },
        "id": "U9Enh4pDYvVc",
        "outputId": "b90a3ea4-96b5-4213-93be-5346bc96d5c3"
      },
      "source": [
        "json.loads(raw_response[0].text)"
      ],
      "execution_count": null,
      "outputs": [
        {
          "output_type": "execute_result",
          "data": {
            "text/plain": [
              "{'results': [{'address_components': [{'long_name': '１２４−８',\n",
              "     'short_name': '１２４−８',\n",
              "     'types': ['premise']},\n",
              "    {'long_name': '종로5가',\n",
              "     'short_name': '종로5가',\n",
              "     'types': ['political', 'sublocality', 'sublocality_level_2']},\n",
              "    {'long_name': '종로구',\n",
              "     'short_name': '종로구',\n",
              "     'types': ['political', 'sublocality', 'sublocality_level_1']},\n",
              "    {'long_name': '서울특별시',\n",
              "     'short_name': '서울특별시',\n",
              "     'types': ['administrative_area_level_1', 'political']},\n",
              "    {'long_name': '대한민국',\n",
              "     'short_name': 'KR',\n",
              "     'types': ['country', 'political']},\n",
              "    {'long_name': '110-125',\n",
              "     'short_name': '110-125',\n",
              "     'types': ['postal_code']}],\n",
              "   'formatted_address': '대한민국 서울특별시 종로구 종로5가 124-8',\n",
              "   'geometry': {'location': {'lat': 37.57083069999999, 'lng': 127.0023506},\n",
              "    'location_type': 'ROOFTOP',\n",
              "    'viewport': {'northeast': {'lat': 37.57217968029149,\n",
              "      'lng': 127.0036995802915},\n",
              "     'southwest': {'lat': 37.5694817197085, 'lng': 127.0010016197085}}},\n",
              "   'place_id': 'ChIJ7yghWCGjfDURt1pv7Oh_t6k',\n",
              "   'plus_code': {'compound_code': 'H2C2+8W 대한민국 서울특별시',\n",
              "    'global_code': '8Q99H2C2+8W'},\n",
              "   'types': ['establishment',\n",
              "    'local_government_office',\n",
              "    'point_of_interest']}],\n",
              " 'status': 'OK'}"
            ]
          },
          "metadata": {
            "tags": []
          },
          "execution_count": 22
        }
      ]
    },
    {
      "cell_type": "code",
      "metadata": {
        "colab": {
          "base_uri": "https://localhost:8080/"
        },
        "id": "xtDlmkASZ6QR",
        "outputId": "fd181aa2-e7bb-4737-f44b-f929ede1f86d"
      },
      "source": [
        "json.loads(raw_response[0].text)['results'][0]['geometry']"
      ],
      "execution_count": null,
      "outputs": [
        {
          "output_type": "execute_result",
          "data": {
            "text/plain": [
              "{'location': {'lat': 37.57083069999999, 'lng': 127.0023506},\n",
              " 'location_type': 'ROOFTOP',\n",
              " 'viewport': {'northeast': {'lat': 37.57217968029149,\n",
              "   'lng': 127.0036995802915},\n",
              "  'southwest': {'lat': 37.5694817197085, 'lng': 127.0010016197085}}}"
            ]
          },
          "metadata": {
            "tags": []
          },
          "execution_count": 26
        }
      ]
    },
    {
      "cell_type": "code",
      "metadata": {
        "colab": {
          "base_uri": "https://localhost:8080/"
        },
        "id": "L6vYePpvaQKa",
        "outputId": "d1d21224-b8d4-4806-9aad-d0d5a16a59b3"
      },
      "source": [
        "json.loads(raw_response[0].text)['results'][0]['geometry']['location']"
      ],
      "execution_count": null,
      "outputs": [
        {
          "output_type": "execute_result",
          "data": {
            "text/plain": [
              "{'lat': 37.57083069999999, 'lng': 127.0023506}"
            ]
          },
          "metadata": {
            "tags": []
          },
          "execution_count": 30
        }
      ]
    },
    {
      "cell_type": "code",
      "metadata": {
        "id": "JOBd2mw9adc4"
      },
      "source": [
        "lat_list = []\n",
        "lng_list = []\n",
        "i=0\n",
        "for response in raw_response:\n",
        "  try:\n",
        "    i+=1\n",
        "    lat_list.append(json.loads(response.text)['results'][0]['geometry']['location']['lat'])\n",
        "    lng_list.append(json.loads(response.text)['results'][0]['geometry']['location']['lng'])\n",
        "  except:\n",
        "    lat_list.append(0)\n",
        "    lng_list.append(0)"
      ],
      "execution_count": null,
      "outputs": []
    },
    {
      "cell_type": "code",
      "metadata": {
        "colab": {
          "base_uri": "https://localhost:8080/",
          "height": 36
        },
        "id": "S45BZqX1bLST",
        "outputId": "163d08da-fe11-4568-9838-49c21ebe8832"
      },
      "source": [
        "raw_response[1].text"
      ],
      "execution_count": null,
      "outputs": [
        {
          "output_type": "execute_result",
          "data": {
            "application/vnd.google.colaboratory.intrinsic+json": {
              "type": "string"
            },
            "text/plain": [
              "'{\\n   \"results\" : [],\\n   \"status\" : \"ZERO_RESULTS\"\\n}\\n'"
            ]
          },
          "metadata": {
            "tags": []
          },
          "execution_count": 35
        }
      ]
    },
    {
      "cell_type": "code",
      "metadata": {
        "id": "iZYG2j5UfpZJ"
      },
      "source": [
        "df['lat'] = lat_list\n",
        "df['lng'] = lng_list"
      ],
      "execution_count": null,
      "outputs": []
    },
    {
      "cell_type": "code",
      "metadata": {
        "id": "rL_0b6k4fuA6"
      },
      "source": [
        "df.to_excel(\"역+위도경도.xlsx\")"
      ],
      "execution_count": null,
      "outputs": []
    }
  ]
}